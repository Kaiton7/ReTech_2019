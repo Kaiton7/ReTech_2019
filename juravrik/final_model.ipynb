{
 "cells": [
  {
   "cell_type": "code",
   "execution_count": 1,
   "metadata": {},
   "outputs": [],
   "source": [
    "import pandas as pd\n",
    "import numpy as np\n",
    "import matplotlib.pyplot as plt\n",
    "import seaborn as sns\n",
    "%matplotlib inline"
   ]
  },
  {
   "cell_type": "code",
   "execution_count": 2,
   "metadata": {},
   "outputs": [],
   "source": [
    "train = pd.read_csv(\"../../input/train.csv\")\n",
    "test = pd.read_csv(\"../../input/test.csv\")"
   ]
  },
  {
   "cell_type": "code",
   "execution_count": 3,
   "metadata": {},
   "outputs": [],
   "source": [
    "y = train[\"SalePrice\"]\n",
    "train = train.drop(\"SalePrice\", axis=1)"
   ]
  },
  {
   "cell_type": "code",
   "execution_count": 4,
   "metadata": {},
   "outputs": [],
   "source": [
    "data = pd.concat([train, test], axis=0).drop([\"Id\"], axis=1)"
   ]
  },
  {
   "cell_type": "code",
   "execution_count": 5,
   "metadata": {},
   "outputs": [],
   "source": [
    "data[\"RatioArea_GrLivArea\"] = data.groupby(\"Neighborhood\")[\"GrLivArea\"].transform(lambda x: x/x.mean())\n",
    "data[\"RatioArea_TotalBsmtSF\"] = data.groupby(\"Neighborhood\")[\"TotalBsmtSF\"].transform(lambda x: x/x.mean())\n",
    "data[\"RatioArea_1stFlrSF\"] = data.groupby(\"Neighborhood\")[\"1stFlrSF\"].transform(lambda x: x/x.mean())\n",
    "data[\"RatioArea_GarageArea\"] = data.groupby(\"Neighborhood\")[\"GarageArea\"].transform(lambda x: x/x.mean())\n",
    "data[\"RatioArea_BsmtFinSF1\"] = data.groupby(\"Neighborhood\")[\"BsmtFinSF1\"].transform(lambda x: x/x.mean())\n",
    "data[\"RatioArea_OpenPorchSF\"] = data.groupby(\"Neighborhood\")[\"OpenPorchSF\"].transform(lambda x: x/x.mean())\n",
    "data[\"RatioArea_LotFrontage\"] = data.groupby(\"Neighborhood\")[\"LotFrontage\"].transform(lambda x: x/x.mean())\n",
    "data[\"RatioArea_MasVnrArea\"] = data.groupby(\"Neighborhood\")[\"MasVnrArea\"].transform(lambda x: x/x.mean())\n",
    "\n",
    "data[\"RatioArea_LotArea\"] = data.groupby(\"Neighborhood\")[\"LotArea\"].transform(lambda x: x/x.mean())\n",
    "\n",
    "data[\"RatioArea_YearBuilt\"] = data.groupby(\"Neighborhood\")[\"YearBuilt\"].transform(lambda x: x/x.mean())\n",
    "data[\"RatioArea_TotRmsAbvGrd\"] = data.groupby(\"Neighborhood\")[\"TotRmsAbvGrd\"].transform(lambda x: x/x.mean())\n",
    "data[\"RatioArea_TotalBsmtSF\"] = data.groupby(\"Neighborhood\")[\"TotalBsmtSF\"].transform(lambda x: x/x.mean())"
   ]
  },
  {
   "cell_type": "code",
   "execution_count": 6,
   "metadata": {},
   "outputs": [],
   "source": [
    "AreaMapper = {'CollgCr':2, 'Veenker':2, 'Crawfor':2, 'NoRidge':3, 'Mitchel':1, 'Somerst':2,\n",
    "       'NWAmes':1, 'OldTown':1, 'BrkSide':1, 'Sawyer':1, 'NridgHt':3, 'NAmes':1,\n",
    "      'SawyerW':1, 'IDOTRR':0, 'MeadowV':0, 'Edwards':1, 'Timber':2, 'Gilbert':2,\n",
    "       'StoneBr':2, 'ClearCr':2, 'NPkVill':1, 'Blmngtn':2, 'BrDale':1, 'SWISU':1,\n",
    "       'Blueste':1}\n",
    "data[\"Neighbor_mapped\"] = data[\"Neighborhood\"].map(AreaMapper)"
   ]
  },
  {
   "cell_type": "code",
   "execution_count": 7,
   "metadata": {},
   "outputs": [],
   "source": [
    "size_mapping = {\"Ex\": 5, \"Gd\": 4, \"TA\": 3, \"Fa\":2, \"Po\": 1, \"NA\": 0, \"GLQ\": 6, \"ALQ\": 5, \"BLQ\": 4, \"Rec\": 3, \"LwQ\": 2, \"Unf\": 1, \"GdPrv\": 2, \"MnPrv\":1, \"GdWo\": 2, \"MnWw\": 1}\n",
    "for c in [\"ExterQual\", \"ExterCond\", \"BsmtQual\", \"BsmtCond\", \"BsmtFinType1\", \"BsmtFinType2\", \"HeatingQC\", \"KitchenQual\", \"FireplaceQu\", \"GarageQual\", \"GarageCond\", \"PoolQC\", \"Fence\"]:\n",
    "    data[c+\"_mapped\"] = data[c].map(size_mapping)"
   ]
  },
  {
   "cell_type": "code",
   "execution_count": 8,
   "metadata": {},
   "outputs": [],
   "source": [
    "num_df = data.select_dtypes(exclude=['object'])"
   ]
  },
  {
   "cell_type": "code",
   "execution_count": 9,
   "metadata": {},
   "outputs": [
    {
     "name": "stderr",
     "output_type": "stream",
     "text": [
      "/home/ravrik/anaconda3/lib/python3.7/site-packages/ipykernel_launcher.py:1: SettingWithCopyWarning: \n",
      "A value is trying to be set on a copy of a slice from a DataFrame.\n",
      "Try using .loc[row_indexer,col_indexer] = value instead\n",
      "\n",
      "See the caveats in the documentation: http://pandas.pydata.org/pandas-docs/stable/indexing.html#indexing-view-versus-copy\n",
      "  \"\"\"Entry point for launching an IPython kernel.\n",
      "/home/ravrik/anaconda3/lib/python3.7/site-packages/ipykernel_launcher.py:2: SettingWithCopyWarning: \n",
      "A value is trying to be set on a copy of a slice from a DataFrame.\n",
      "Try using .loc[row_indexer,col_indexer] = value instead\n",
      "\n",
      "See the caveats in the documentation: http://pandas.pydata.org/pandas-docs/stable/indexing.html#indexing-view-versus-copy\n",
      "  \n",
      "/home/ravrik/anaconda3/lib/python3.7/site-packages/ipykernel_launcher.py:4: SettingWithCopyWarning: \n",
      "A value is trying to be set on a copy of a slice from a DataFrame.\n",
      "Try using .loc[row_indexer,col_indexer] = value instead\n",
      "\n",
      "See the caveats in the documentation: http://pandas.pydata.org/pandas-docs/stable/indexing.html#indexing-view-versus-copy\n",
      "  after removing the cwd from sys.path.\n",
      "/home/ravrik/anaconda3/lib/python3.7/site-packages/ipykernel_launcher.py:5: SettingWithCopyWarning: \n",
      "A value is trying to be set on a copy of a slice from a DataFrame.\n",
      "Try using .loc[row_indexer,col_indexer] = value instead\n",
      "\n",
      "See the caveats in the documentation: http://pandas.pydata.org/pandas-docs/stable/indexing.html#indexing-view-versus-copy\n",
      "  \"\"\"\n",
      "/home/ravrik/anaconda3/lib/python3.7/site-packages/ipykernel_launcher.py:6: SettingWithCopyWarning: \n",
      "A value is trying to be set on a copy of a slice from a DataFrame.\n",
      "Try using .loc[row_indexer,col_indexer] = value instead\n",
      "\n",
      "See the caveats in the documentation: http://pandas.pydata.org/pandas-docs/stable/indexing.html#indexing-view-versus-copy\n",
      "  \n",
      "/home/ravrik/anaconda3/lib/python3.7/site-packages/ipykernel_launcher.py:7: SettingWithCopyWarning: \n",
      "A value is trying to be set on a copy of a slice from a DataFrame.\n",
      "Try using .loc[row_indexer,col_indexer] = value instead\n",
      "\n",
      "See the caveats in the documentation: http://pandas.pydata.org/pandas-docs/stable/indexing.html#indexing-view-versus-copy\n",
      "  import sys\n",
      "/home/ravrik/anaconda3/lib/python3.7/site-packages/ipykernel_launcher.py:8: SettingWithCopyWarning: \n",
      "A value is trying to be set on a copy of a slice from a DataFrame.\n",
      "Try using .loc[row_indexer,col_indexer] = value instead\n",
      "\n",
      "See the caveats in the documentation: http://pandas.pydata.org/pandas-docs/stable/indexing.html#indexing-view-versus-copy\n",
      "  \n",
      "/home/ravrik/anaconda3/lib/python3.7/site-packages/ipykernel_launcher.py:9: SettingWithCopyWarning: \n",
      "A value is trying to be set on a copy of a slice from a DataFrame.\n",
      "Try using .loc[row_indexer,col_indexer] = value instead\n",
      "\n",
      "See the caveats in the documentation: http://pandas.pydata.org/pandas-docs/stable/indexing.html#indexing-view-versus-copy\n",
      "  if __name__ == '__main__':\n",
      "/home/ravrik/anaconda3/lib/python3.7/site-packages/ipykernel_launcher.py:11: SettingWithCopyWarning: \n",
      "A value is trying to be set on a copy of a slice from a DataFrame.\n",
      "Try using .loc[row_indexer,col_indexer] = value instead\n",
      "\n",
      "See the caveats in the documentation: http://pandas.pydata.org/pandas-docs/stable/indexing.html#indexing-view-versus-copy\n",
      "  # This is added back by InteractiveShellApp.init_path()\n",
      "/home/ravrik/anaconda3/lib/python3.7/site-packages/ipykernel_launcher.py:12: SettingWithCopyWarning: \n",
      "A value is trying to be set on a copy of a slice from a DataFrame.\n",
      "Try using .loc[row_indexer,col_indexer] = value instead\n",
      "\n",
      "See the caveats in the documentation: http://pandas.pydata.org/pandas-docs/stable/indexing.html#indexing-view-versus-copy\n",
      "  if sys.path[0] == '':\n",
      "/home/ravrik/anaconda3/lib/python3.7/site-packages/ipykernel_launcher.py:14: SettingWithCopyWarning: \n",
      "A value is trying to be set on a copy of a slice from a DataFrame.\n",
      "Try using .loc[row_indexer,col_indexer] = value instead\n",
      "\n",
      "See the caveats in the documentation: http://pandas.pydata.org/pandas-docs/stable/indexing.html#indexing-view-versus-copy\n",
      "  \n",
      "/home/ravrik/anaconda3/lib/python3.7/site-packages/ipykernel_launcher.py:15: SettingWithCopyWarning: \n",
      "A value is trying to be set on a copy of a slice from a DataFrame.\n",
      "Try using .loc[row_indexer,col_indexer] = value instead\n",
      "\n",
      "See the caveats in the documentation: http://pandas.pydata.org/pandas-docs/stable/indexing.html#indexing-view-versus-copy\n",
      "  from ipykernel import kernelapp as app\n",
      "/home/ravrik/anaconda3/lib/python3.7/site-packages/ipykernel_launcher.py:16: SettingWithCopyWarning: \n",
      "A value is trying to be set on a copy of a slice from a DataFrame.\n",
      "Try using .loc[row_indexer,col_indexer] = value instead\n",
      "\n",
      "See the caveats in the documentation: http://pandas.pydata.org/pandas-docs/stable/indexing.html#indexing-view-versus-copy\n",
      "  app.launch_new_instance()\n",
      "/home/ravrik/anaconda3/lib/python3.7/site-packages/ipykernel_launcher.py:17: SettingWithCopyWarning: \n",
      "A value is trying to be set on a copy of a slice from a DataFrame.\n",
      "Try using .loc[row_indexer,col_indexer] = value instead\n",
      "\n",
      "See the caveats in the documentation: http://pandas.pydata.org/pandas-docs/stable/indexing.html#indexing-view-versus-copy\n",
      "/home/ravrik/anaconda3/lib/python3.7/site-packages/ipykernel_launcher.py:18: SettingWithCopyWarning: \n",
      "A value is trying to be set on a copy of a slice from a DataFrame.\n",
      "Try using .loc[row_indexer,col_indexer] = value instead\n",
      "\n",
      "See the caveats in the documentation: http://pandas.pydata.org/pandas-docs/stable/indexing.html#indexing-view-versus-copy\n"
     ]
    }
   ],
   "source": [
    "num_df[\"TotBath\"] = num_df[\"FullBath\"]+num_df[\"HalfBath\"]\n",
    "num_df[\"ratio_fi\"] = num_df[\"2ndFlrSF\"]/num_df[\"GrLivArea\"]\n",
    "\n",
    "num_df[\"diff_build_Reno\"] = num_df[\"YearBuilt\"] - num_df[\"YearRemodAdd\"]\n",
    "num_df[\"GarageOld\"] = num_df[\"YrSold\"] - num_df[\"GarageYrBlt\"]\n",
    "num_df[\"HouseOld\"] = num_df[\"YrSold\"] - num_df[\"YearBuilt\"]\n",
    "num_df[\"HouseOld\"] = num_df[\"YrSold\"] - num_df[\"YearBuilt\"]\n",
    "num_df[\"SF_open_ratio\"] = num_df[\"WoodDeckSF\"] / num_df[\"EnclosedPorch\"] \n",
    "num_df[\"RoomFireplacesRatio\"] = num_df[\"Fireplaces\"] / num_df[\"TotRmsAbvGrd\"]\n",
    "\n",
    "num_df[\"BadRoomRatio\"] =num_df[\"LowQualFinSF\"]/(num_df[\"1stFlrSF\"]+num_df[\"2ndFlrSF\"])\n",
    "num_df[\"ratio_Bsmt\"] = num_df[\"TotalBsmtSF\"] / (num_df[\"1stFlrSF\"] + num_df[\"2ndFlrSF\"])\n",
    "\n",
    "num_df[\"ratio_kitchen\"] = num_df[\"KitchenAbvGr\"] / num_df[\"TotRmsAbvGrd\"]\n",
    "num_df[\"ratio_Bedroom\"] = num_df[\"BedroomAbvGr\"] / num_df[\"TotRmsAbvGrd\"]\n",
    "num_df[\"ratio_Bathroom\"] = num_df[\"TotBath\"] / num_df[\"TotRmsAbvGrd\"]\n",
    "num_df[\"OtherRooms\"] = num_df[\"TotRmsAbvGrd\"] - num_df[\"KitchenAbvGr\"] - num_df[\"BedroomAbvGr\"]\n",
    "num_df[\"TotBsmtBath\"] = num_df[\"BsmtFullBath\"]+num_df[\"BsmtHalfBath\"]\n",
    "\n",
    "\n"
   ]
  },
  {
   "cell_type": "code",
   "execution_count": 10,
   "metadata": {},
   "outputs": [],
   "source": [
    "for c in [\"OverallCond\", \"OverallQual\",\"MSSubClass\", \"MoSold\", \"YrSold\"]:\n",
    "    data[c] = data[c].apply(str)"
   ]
  },
  {
   "cell_type": "code",
   "execution_count": 11,
   "metadata": {},
   "outputs": [],
   "source": [
    "cat_df =  data.select_dtypes(include=['object'])"
   ]
  },
  {
   "cell_type": "code",
   "execution_count": 12,
   "metadata": {},
   "outputs": [],
   "source": [
    "cat_df = pd.get_dummies(cat_df)"
   ]
  },
  {
   "cell_type": "code",
   "execution_count": 13,
   "metadata": {},
   "outputs": [],
   "source": [
    "X = pd.concat([num_df, cat_df], axis=1)"
   ]
  },
  {
   "cell_type": "code",
   "execution_count": null,
   "metadata": {},
   "outputs": [
    {
     "name": "stdout",
     "output_type": "stream",
     "text": [
      "0.0 %finished\n",
      "0.002638522427440633 %finished\n",
      "0.005277044854881266 %finished\n",
      "0.0079155672823219 %finished\n",
      "0.010554089709762533 %finished\n",
      "0.013192612137203167 %finished\n",
      "0.0158311345646438 %finished\n",
      "0.018469656992084433 %finished\n"
     ]
    }
   ],
   "source": [
    "from sklearn.linear_model import ElasticNetCV\n",
    "from sklearn.pipeline import make_pipeline\n",
    "from sklearn.preprocessing import RobustScaler\n",
    "\n",
    "from sklearn.model_selection import KFold\n",
    "\n",
    "kfolds = KFold(n_splits=10, shuffle=True, random_state=42)\n",
    "\n",
    "e_alphas = [0.0001, 0.0002, 0.0003, 0.0004, 0.0005, 0.0006, 0.0007]\n",
    "e_l1ratio = [0.8, 0.85, 0.9, 0.95, 0.99, 1]\n",
    "\n",
    "for i, c in enumerate(X.columns):\n",
    "    print(i/len(X.columns), \"%finished\")\n",
    "    if X[c].isnull().sum() == 0:\n",
    "        continue\n",
    "    else:\n",
    "        elasticnet = make_pipeline(RobustScaler(),\n",
    "                                            ElasticNetCV(max_iter=1e7, alphas=e_alphas,\n",
    "                                        cv=kfolds, random_state=42, l1_ratio=e_l1ratio))\n",
    "        elasticnet.fit(X.loc[~(X[c].isnull()), ~(X.isnull().any())], X.loc[~(X[c].isnull()), c])\n",
    "        X.loc[X[c].isnull(), c] = elasticnet.predict(X.loc[X[c].isnull(), ~(X.isnull().any())])"
   ]
  },
  {
   "cell_type": "code",
   "execution_count": 566,
   "metadata": {},
   "outputs": [],
   "source": [
    "train_X = X.iloc[:train.shape[0], :]\n",
    "test_X = X.iloc[train.shape[0]:, :]"
   ]
  },
  {
   "cell_type": "code",
   "execution_count": 567,
   "metadata": {},
   "outputs": [],
   "source": [
    "import lightgbm as lgb\n",
    "from lightgbm import LGBMRegressor"
   ]
  },
  {
   "cell_type": "code",
   "execution_count": 570,
   "metadata": {},
   "outputs": [
    {
     "data": {
      "text/plain": [
       "LGBMRegressor(bagging_fraction=0.75, bagging_freq=5, bagging_seed=7,\n",
       "       boosting_type='gbdt', class_weight=None, colsample_bytree=1.0,\n",
       "       feature_fraction=0.2, feature_fraction_seed=7,\n",
       "       importance_type='split', learning_rate=0.01, max_bin=200,\n",
       "       max_depth=-1, min_child_samples=20, min_child_weight=0.001,\n",
       "       min_split_gain=0.0, n_estimators=5000, n_jobs=-1, num_leaves=4,\n",
       "       objective='regression', random_state=None, reg_alpha=0.0,\n",
       "       reg_lambda=0.0, silent=True, subsample=1.0,\n",
       "       subsample_for_bin=200000, subsample_freq=0, verbose=-1)"
      ]
     },
     "execution_count": 570,
     "metadata": {},
     "output_type": "execute_result"
    }
   ],
   "source": [
    "lgb_reg = LGBMRegressor(objective='regression', \n",
    "                                       num_leaves=4,\n",
    "                                       learning_rate=0.01, \n",
    "                                       n_estimators=5000,\n",
    "                                       max_bin=200, \n",
    "                                       bagging_fraction=0.75,\n",
    "                                       bagging_freq=5, \n",
    "                                       bagging_seed=7,\n",
    "                                       feature_fraction=0.2,\n",
    "                                       feature_fraction_seed=7,\n",
    "                                       verbose=-1,\n",
    "                                       )\n",
    "lgb_reg.fit(train_X, y)"
   ]
  },
  {
   "cell_type": "code",
   "execution_count": 571,
   "metadata": {},
   "outputs": [],
   "source": [
    "sub = pd.read_csv(\"../../input/sample_submission.csv\")\n",
    "sub[\"SalePrice\"] = lgb_reg.predict(test_X)"
   ]
  },
  {
   "cell_type": "code",
   "execution_count": 572,
   "metadata": {},
   "outputs": [],
   "source": [
    "sub.to_csv(\"predic_fill_lgbm_sub.csv\", index=False)"
   ]
  },
  {
   "cell_type": "code",
   "execution_count": 411,
   "metadata": {},
   "outputs": [],
   "source": [
    "fe_map =  dict(zip(list(train_X.columns), lgb_reg.feature_importances_))"
   ]
  },
  {
   "cell_type": "code",
   "execution_count": 608,
   "metadata": {
    "scrolled": true
   },
   "outputs": [
    {
     "name": "stdout",
     "output_type": "stream",
     "text": [
      "[('PoolArea', 0), ('MiscVal', 0), ('PoolQC_mapped', 0), ('MSSubClass_150', 0), ('MSSubClass_160', 0), ('MSSubClass_180', 0), ('MSSubClass_190', 0), ('MSSubClass_40', 0), ('MSSubClass_45', 0), ('MSSubClass_75', 0)]\n"
     ]
    }
   ],
   "source": [
    "print(sorted(fe_map.items(), key=lambda x: x[1])[:10])"
   ]
  },
  {
   "cell_type": "code",
   "execution_count": 543,
   "metadata": {},
   "outputs": [
    {
     "data": {
      "image/png": "[encoded data removed]",
      "text/plain": [
       "<Figure size 504x720 with 1 Axes>"
      ]
     },
     "metadata": {
      "needs_background": "light"
     },
     "output_type": "display_data"
    }
   ],
   "source": [
    "f, ax = plt.subplots(figsize=[7,10])\n",
    "lgb.plot_importance(lgb_reg, max_num_features=30,  ax=ax)\n",
    "plt.title(\"Light GBM Feature Importance\")\n",
    "plt.savefig('feature_import.png')"
   ]
  }
 ],
 "metadata": {
  "kernelspec": {
   "display_name": "Python 3",
   "language": "python",
   "name": "python3"
  },
  "language_info": {
   "codemirror_mode": {
    "name": "ipython",
    "version": 3
   },
   "file_extension": ".py",
   "mimetype": "text/x-python",
   "name": "python",
   "nbconvert_exporter": "python",
   "pygments_lexer": "ipython3",
   "version": "3.7.2"
  }
 },
 "nbformat": 4,
 "nbformat_minor": 2
}
